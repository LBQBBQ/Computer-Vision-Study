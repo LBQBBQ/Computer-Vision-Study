{
 "cells": [
  {
   "cell_type": "code",
   "execution_count": 1,
   "id": "e2fe8b1f",
   "metadata": {},
   "outputs": [],
   "source": [
    "import cv2\n",
    "import numpy as np"
   ]
  },
  {
   "cell_type": "code",
   "execution_count": 2,
   "id": "81ecae3d",
   "metadata": {},
   "outputs": [],
   "source": [
    "##################################\n",
    "#########Function Here############\n",
    "##################################\n",
    "def draw_circle(event,x,y,flags,param):\n",
    "    pass\n",
    "\n",
    "cv2.namedWindow(winname=\"my_drawing\")\n",
    "\n",
    "cv2.setMouseCallback(\"my_drawing\",draw_circle)\n",
    "\n",
    "\n",
    "\n",
    "\n",
    "\n",
    "##################################\n",
    "####Showing image with OpenCV#####\n",
    "##################################\n",
    "img = np.zeros((512,512,3),np.int8)\n",
    "\n",
    "while True:\n",
    "    \n",
    "    cv2.imshow('my_drawing',img)\n",
    "    \n",
    "    if cv2.waitKey(20) & 0xFF == 27:\n",
    "        break\n",
    "        \n",
    "cv2.destroyAllWindows()"
   ]
  },
  {
   "cell_type": "code",
   "execution_count": null,
   "id": "192ed1ca",
   "metadata": {},
   "outputs": [],
   "source": []
  }
 ],
 "metadata": {
  "kernelspec": {
   "display_name": "Python 3.9 (tensorflow)",
   "language": "python",
   "name": "tensorflow"
  },
  "language_info": {
   "codemirror_mode": {
    "name": "ipython",
    "version": 3
   },
   "file_extension": ".py",
   "mimetype": "text/x-python",
   "name": "python",
   "nbconvert_exporter": "python",
   "pygments_lexer": "ipython3",
   "version": "3.9.13"
  }
 },
 "nbformat": 4,
 "nbformat_minor": 5
}
